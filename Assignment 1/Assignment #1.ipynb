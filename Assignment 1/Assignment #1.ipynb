{
 "cells": [
  {
   "cell_type": "code",
   "execution_count": 6,
   "id": "95138c48",
   "metadata": {},
   "outputs": [
    {
     "name": "stdout",
     "output_type": "stream",
     "text": [
      "     Twinkle,twinkle, little star\n",
      "           How I wondering what you are\n",
      "               Up above the world so high,\n",
      "               Like a diamond in the sky.\n",
      "     Twinkle,twinkle, little star,\n",
      "           How I wondering what you are|\n"
     ]
    }
   ],
   "source": [
    "print(\"     Twinkle,twinkle, little star\\n           How I wondering what you are\\n               Up above the world so high,\\n               Like a diamond in the sky.\\n     Twinkle,twinkle, little star,\\n           How I wondering what you are|\")"
   ]
  },
  {
   "cell_type": "code",
   "execution_count": 7,
   "id": "d9ecf20e",
   "metadata": {},
   "outputs": [
    {
     "name": "stdout",
     "output_type": "stream",
     "text": [
      "3.8.8\n"
     ]
    }
   ],
   "source": [
    "from platform import python_version\n",
    "print (python_version())"
   ]
  },
  {
   "cell_type": "code",
   "execution_count": 9,
   "id": "b3894093",
   "metadata": {},
   "outputs": [
    {
     "name": "stdout",
     "output_type": "stream",
     "text": [
      "Current date and time : \n",
      "19:51:59 2022-01-01\n"
     ]
    }
   ],
   "source": [
    "import datetime\n",
    "now = datetime.datetime.now()\n",
    "print (\"Current date and time : \")\n",
    "print (now.strftime(\"%H:%M:%S %Y-%m-%d\"))"
   ]
  },
  {
   "cell_type": "code",
   "execution_count": 10,
   "id": "c0891a89",
   "metadata": {},
   "outputs": [
    {
     "name": "stdout",
     "output_type": "stream",
     "text": [
      "Input the radius of the circle : 3\n",
      "The area of the circle with radius 3.0 is: 28.274333882308138\n"
     ]
    }
   ],
   "source": [
    "from math import pi\n",
    "r = float(input (\"Input the radius of the circle : \"))\n",
    "print (\"The area of the circle with radius \" + str(r) + \" is: \" + str(pi * r**2))"
   ]
  },
  {
   "cell_type": "code",
   "execution_count": 11,
   "id": "f570a3ff",
   "metadata": {},
   "outputs": [
    {
     "name": "stdout",
     "output_type": "stream",
     "text": [
      "Enter your First nameGhassan\n",
      "Enter your Last nameAdeel\n",
      "Adeel Ghassan\n"
     ]
    }
   ],
   "source": [
    "fname = (input(\"Enter your First name\"))\n",
    "lname = (input(\"Enter your Last name\"))\n",
    "print(lname + \" \" + fname)"
   ]
  },
  {
   "cell_type": "code",
   "execution_count": 18,
   "id": "ed263217",
   "metadata": {},
   "outputs": [
    {
     "name": "stdout",
     "output_type": "stream",
     "text": [
      "Enter first number: 34\n",
      "Enter second number: 78\n",
      "The sum is  112\n"
     ]
    }
   ],
   "source": [
    "firstnum = input(\"Enter first number: \")\n",
    "secondnum = input(\"Enter second number: \")\n",
    "sum = int(firstnum) + int(secondnum)\n",
    "print ('The sum is ',sum)"
   ]
  },
  {
   "cell_type": "code",
   "execution_count": null,
   "id": "0769ad68",
   "metadata": {},
   "outputs": [],
   "source": []
  }
 ],
 "metadata": {
  "kernelspec": {
   "display_name": "Python 3",
   "language": "python",
   "name": "python3"
  },
  "language_info": {
   "codemirror_mode": {
    "name": "ipython",
    "version": 3
   },
   "file_extension": ".py",
   "mimetype": "text/x-python",
   "name": "python",
   "nbconvert_exporter": "python",
   "pygments_lexer": "ipython3",
   "version": "3.8.8"
  }
 },
 "nbformat": 4,
 "nbformat_minor": 5
}
